{
 "cells": [
  {
   "cell_type": "code",
   "execution_count": 2,
   "id": "9f362cb5-d443-4005-a1f7-7775e8441cb9",
   "metadata": {},
   "outputs": [
    {
     "name": "stdout",
     "output_type": "stream",
     "text": [
      "linux\n"
     ]
    }
   ],
   "source": [
    "import sys\n",
    "\n",
    "# 현재 플랫폼을 출력합니다.\n",
    "print(sys.platform)"
   ]
  },
  {
   "cell_type": "code",
   "execution_count": 3,
   "id": "bddc6489-6cdf-4ed9-8d8f-67181717567f",
   "metadata": {},
   "outputs": [
    {
     "name": "stdout",
     "output_type": "stream",
     "text": [
      "Note: you may need to restart the kernel to use updated packages.\n"
     ]
    }
   ],
   "source": [
    "pip install -q playwright"
   ]
  },
  {
   "cell_type": "code",
   "execution_count": null,
   "id": "75f492dd-fcd5-4f22-8244-1e474dcd3294",
   "metadata": {},
   "outputs": [],
   "source": [
    "!playwright install chromium"
   ]
  },
  {
   "cell_type": "markdown",
   "id": "064b3e66-6916-4100-b38c-8c668d962cf4",
   "metadata": {},
   "source": [
    "### Playwright Dependency 설치 (File - new - Terminal)\n",
    "아래 코드 순서대로 실행  \n",
    "\n",
    "- which playwright\n",
    "- sudo /home/hyukj/anaconda3/bin/playwright install-deps\n",
    "- 위 코드의 경로는 맨 처음 입력한 which playwright의 경로로 입력해주시면 됩니다."
   ]
  },
  {
   "cell_type": "code",
   "execution_count": 4,
   "id": "a087e297-2b62-4217-abc5-9f670acc6eb7",
   "metadata": {},
   "outputs": [
    {
     "name": "stdout",
     "output_type": "stream",
     "text": [
      "현재 페이지 제목: Breaking News, Business, Financial and Economic News, World News from EconoTimes\n"
     ]
    }
   ],
   "source": [
    "import asyncio\n",
    "from playwright.async_api import async_playwright\n",
    "async with async_playwright() as p:\n",
    "    # 1. 브라우저 실행 (모든 동작 앞에 await 키워드를 붙입니다)\n",
    "    browser = await p.chromium.launch(headless=True)  # headless=True로 설정하면 브라우저를 안 띄웁니다.\n",
    "        \n",
    "    # 2. 새 페이지 열기\n",
    "    page = await browser.new_page()\n",
    "        \n",
    "    # 3. 원하는 URL로 이동\n",
    "    await page.goto(\"https://econotimes.com/search?v=tesla&search=\")\n",
    "        \n",
    "    # 4. 페이지 제목 가져와서 출력하기\n",
    "    page_title = await page.title()\n",
    "    print(f\"현재 페이지 제목: {page_title}\")"
   ]
  },
  {
   "cell_type": "code",
   "execution_count": null,
   "id": "5e751183-259e-47e8-a68b-2c4b61f9de87",
   "metadata": {},
   "outputs": [],
   "source": []
  }
 ],
 "metadata": {
  "kernelspec": {
   "display_name": "Python 3 (ipykernel)",
   "language": "python",
   "name": "python3"
  },
  "language_info": {
   "codemirror_mode": {
    "name": "ipython",
    "version": 3
   },
   "file_extension": ".py",
   "mimetype": "text/x-python",
   "name": "python",
   "nbconvert_exporter": "python",
   "pygments_lexer": "ipython3",
   "version": "3.13.5"
  }
 },
 "nbformat": 4,
 "nbformat_minor": 5
}
